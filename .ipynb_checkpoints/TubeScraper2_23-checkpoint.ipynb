{
 "cells": [
  {
   "cell_type": "markdown",
   "metadata": {
    "id": "R_ZUQr3G_Bnx"
   },
   "source": [
    "# Imports"
   ]
  },
  {
   "cell_type": "code",
   "execution_count": 1,
   "metadata": {
    "colab": {
     "base_uri": "https://localhost:8080/"
    },
    "id": "qGbP-KeGbajG",
    "outputId": "50d73c27-8ae0-41dc-a6ee-395a0e0e9b4a"
   },
   "outputs": [
    {
     "name": "stdout",
     "output_type": "stream",
     "text": [
      "\u001b[?25l\r",
      "\u001b[K     |███████▉                        | 10kB 22.8MB/s eta 0:00:01\r",
      "\u001b[K     |███████████████▊                | 20kB 25.2MB/s eta 0:00:01\r",
      "\u001b[K     |███████████████████████▌        | 30kB 19.6MB/s eta 0:00:01\r",
      "\u001b[K     |███████████████████████████████▍| 40kB 12.0MB/s eta 0:00:01\r",
      "\u001b[K     |████████████████████████████████| 51kB 3.8MB/s \n",
      "\u001b[?25h"
     ]
    }
   ],
   "source": [
    "!pip install pytube --quiet"
   ]
  },
  {
   "cell_type": "code",
   "execution_count": 2,
   "metadata": {
    "id": "RlYmJTWSXgxR"
   },
   "outputs": [],
   "source": [
    "from bs4 import BeautifulSoup\n",
    "import requests\n",
    "import json\n",
    "import re\n",
    "import urllib.request\n",
    "from pytube import YouTube"
   ]
  },
  {
   "cell_type": "markdown",
   "metadata": {
    "id": "0WW9qWZ9yF0M"
   },
   "source": [
    "# Helper Functions"
   ]
  },
  {
   "cell_type": "code",
   "execution_count": 3,
   "metadata": {
    "id": "PmiUQSnbag2g"
   },
   "outputs": [],
   "source": [
    "class Helper:\n",
    "    def __init__(self):\n",
    "        pass\n",
    "\n",
    "    def title_to_underscore_title(self, title: str):\n",
    "        title = re.sub(\"[\\W_]+\", \"_\", title)\n",
    "        return title.lower()\n",
    "\n",
    "    def id_from_url(self, url: str):\n",
    "        return url.rsplit('=', 1)[1]\n",
    "\n",
    "\n",
    "class YouTubeStats:\n",
    "    def __init__(self, url: str):\n",
    "        #self.json_url = urllib.request.urlopen(url)\n",
    "        self.json_url = requests.get(url)\n",
    "        self.data = json.loads(self.json_url.text)\n",
    "\n",
    "    def print_data(self):\n",
    "        print(self.data)\n",
    "\n",
    "    def get_video_title(self):\n",
    "        # pass\n",
    "        return self.data[\"items\"][0][\"snippet\"][\"title\"]\n",
    "\n",
    "    def get_video_description(self):\n",
    "        # pass\n",
    "        return self.data[\"items\"][0][\"snippet\"][\"description\"]\n",
    "\n",
    "    def download_video(self, youtube_url: str, title: str):\n",
    "        YouTube(youtube_url).streams.first().download(PATH)"
   ]
  },
  {
   "cell_type": "markdown",
   "metadata": {
    "id": "Y39_NEB0-5lX"
   },
   "source": [
    "# Playlist and API info"
   ]
  },
  {
   "cell_type": "code",
   "execution_count": 4,
   "metadata": {
    "id": "JocK0Htr7woA"
   },
   "outputs": [],
   "source": [
    "#Path to DL the videos\n",
    "PATH = 'insert path to DL files to'\n",
    "\n",
    "playlist = 'insert playlist'\n",
    "api_key = 'insert youtube API key'"
   ]
  },
  {
   "cell_type": "markdown",
   "metadata": {
    "id": "OzcR4hoX-HZy"
   },
   "source": [
    "# Link scraping"
   ]
  },
  {
   "cell_type": "code",
   "execution_count": 5,
   "metadata": {
    "colab": {
     "base_uri": "https://localhost:8080/"
    },
    "id": "AbDF0G3z5zs_",
    "outputId": "a5097518-a908-47cd-85d6-8370569169c5"
   },
   "outputs": [
    {
     "data": {
      "text/plain": [
       "22"
      ]
     },
     "execution_count": 5,
     "metadata": {
      "tags": []
     },
     "output_type": "execute_result"
    }
   ],
   "source": [
    "# Scraping links\n",
    "import googleapiclient.discovery\n",
    "from urllib.parse import parse_qs, urlparse\n",
    "\n",
    "#extract playlist id from url\n",
    "query = parse_qs(urlparse(playlist).query, keep_blank_values=True)\n",
    "playlist_id = query[\"list\"][0]\n",
    "\n",
    "# print(f'get all playlist items links from {playlist_id}')\n",
    "youtube = googleapiclient.discovery.build(\"youtube\", \"v3\", developerKey = api_key)\n",
    "\n",
    "request = youtube.playlistItems().list(\n",
    "    part = \"snippet\",\n",
    "    playlistId = playlist_id,\n",
    "    maxResults = 50\n",
    ")\n",
    "response = request.execute()\n",
    "\n",
    "playlist_items = []\n",
    "while request is not None:\n",
    "    response = request.execute()\n",
    "    playlist_items += response[\"items\"]\n",
    "    request = youtube.playlistItems().list_next(request, response)\n",
    "\n",
    "# print(f\"total: {len(playlist_items)}\")\n",
    "links = [f'/watch?v={t[\"snippet\"][\"resourceId\"][\"videoId\"]}' for t in playlist_items]\n",
    "\n",
    "with open(\"FILE PATH TO SAVE CSV OF LINKS\", \"w\") as outfile:\n",
    "    outfile.write(\"\\n\".join(str(item) for item in links))\n",
    "\n",
    "len(links)"
   ]
  },
  {
   "cell_type": "markdown",
   "metadata": {
    "id": "UgAWk2rgYh9m"
   },
   "source": [
    "#Manual adds for various playlist csv's"
   ]
  },
  {
   "cell_type": "markdown",
   "metadata": {
    "id": "YBaNicw3YXSm"
   },
   "source": [
    "Add to Feb_21 csv_list ***/watch?v=KzC4UPH9A5A***"
   ]
  },
  {
   "cell_type": "markdown",
   "metadata": {
    "id": "dUs7OhKP5Dt2"
   },
   "source": [
    "# Scrape the videos"
   ]
  },
  {
   "cell_type": "code",
   "execution_count": 7,
   "metadata": {
    "colab": {
     "base_uri": "https://localhost:8080/"
    },
    "id": "LSFCIsCnx97e",
    "outputId": "8c5368b4-769d-4af6-9bdd-25056656177c"
   },
   "outputs": [
    {
     "name": "stdout",
     "output_type": "stream",
     "text": [
      "black_throne_盟主_meishu_official_audio_\n",
      "black_throne_津島_tsushima_official_audio_\n",
      "black_throne_芸者_geisha_official_audio_\n",
      "zoro\n",
      "_free_naruto_type_beat_amaterasu_\n",
      "black_throne_悪魔_akuma_official_audio_\n",
      "_free_naruto_type_beat_konoha_senpuu_\n",
      "_free_japanese_type_beat_senko_\n",
      "utkersh_kyoto\n",
      "black_throne_かたな_katana_official_audio_\n",
      "iruka_shinobi_japanese_trap_rap_beat_\n",
      "gravy_beats_iruka_hannya_般若_japanese_trap_beat_\n",
      "kusanagi_japanese_trap_music_by_shawty_j\n",
      "asian_trap_beat_yugure_by_skyfo\n",
      "aqueduct\n",
      "cloud_dance\n",
      "ocean_view\n",
      "bringmesun\n",
      "oceania\n",
      "anywhere_but_here\n",
      "p_i_c_k_m_e_u_p\n",
      "kl3w_someday\n"
     ]
    }
   ],
   "source": [
    "# This linked file contains the links... could make a seperate list within this script instead. \n",
    "link_file = \"/content/drive/MyDrive/Music/Scraper/video_links.csv\"\n",
    "with open(link_file, \"r\") as f:\n",
    "    content = f.readlines()\n",
    "\n",
    "content = list(map(lambda s: s.strip(), content))\n",
    "content = list(map(lambda s: s.strip(','), content))\n",
    "\n",
    "helper = Helper()\n",
    "\n",
    "for youtube_url in content[:]:\n",
    "    video_id = helper.id_from_url(youtube_url)\n",
    "    url = f\"https://www.googleapis.com/youtube/v3/videos?part=snippet&id={video_id}&key={api_key}\"\n",
    "    # print(url)\n",
    "    yt_stats = YouTubeStats(url)\n",
    "    title = yt_stats.get_video_title()\n",
    "    title = helper.title_to_underscore_title(title)\n",
    "    print(title)\n",
    "    # description = yt_stats.get_video_description()\n",
    "    # print(description)\n",
    "    yt_stats.download_video(youtube_url, title)\n"
   ]
  },
  {
   "cell_type": "markdown",
   "metadata": {
    "id": "yvpxMkuu-u3x"
   },
   "source": [
    "# Scrape one video"
   ]
  },
  {
   "cell_type": "code",
   "execution_count": 14,
   "metadata": {
    "colab": {
     "base_uri": "https://localhost:8080/",
     "height": 357
    },
    "id": "QGxB0iFGBADs",
    "outputId": "c33377c5-1add-4843-8154-94d8979cfc6d"
   },
   "outputs": [
    {
     "name": "stdout",
     "output_type": "stream",
     "text": [
      "voodoo_bosozoku_yeah\n"
     ]
    },
    {
     "ename": "ValueError",
     "evalue": "ignored",
     "output_type": "error",
     "traceback": [
      "\u001b[0;31m---------------------------------------------------------------------------\u001b[0m",
      "\u001b[0;31mValueError\u001b[0m                                Traceback (most recent call last)",
      "\u001b[0;32m<ipython-input-14-1a5d57a92d7f>\u001b[0m in \u001b[0;36m<module>\u001b[0;34m()\u001b[0m\n\u001b[1;32m     11\u001b[0m \u001b[0;31m# description = yt_stats.get_video_description()\u001b[0m\u001b[0;34m\u001b[0m\u001b[0;34m\u001b[0m\u001b[0;34m\u001b[0m\u001b[0m\n\u001b[1;32m     12\u001b[0m \u001b[0;31m# print(description)\u001b[0m\u001b[0;34m\u001b[0m\u001b[0;34m\u001b[0m\u001b[0;34m\u001b[0m\u001b[0m\n\u001b[0;32m---> 13\u001b[0;31m \u001b[0myt_stats\u001b[0m\u001b[0;34m.\u001b[0m\u001b[0mdownload_video\u001b[0m\u001b[0;34m(\u001b[0m\u001b[0;34m'/watch?v=KzC4UPH9A5A'\u001b[0m\u001b[0;34m,\u001b[0m \u001b[0mtitle\u001b[0m\u001b[0;34m)\u001b[0m\u001b[0;34m\u001b[0m\u001b[0;34m\u001b[0m\u001b[0m\n\u001b[0m",
      "\u001b[0;32m<ipython-input-3-322297f2d817>\u001b[0m in \u001b[0;36mdownload_video\u001b[0;34m(self, youtube_url, title)\u001b[0m\n\u001b[1;32m     29\u001b[0m \u001b[0;34m\u001b[0m\u001b[0m\n\u001b[1;32m     30\u001b[0m     \u001b[0;32mdef\u001b[0m \u001b[0mdownload_video\u001b[0m\u001b[0;34m(\u001b[0m\u001b[0mself\u001b[0m\u001b[0;34m,\u001b[0m \u001b[0myoutube_url\u001b[0m\u001b[0;34m:\u001b[0m \u001b[0mstr\u001b[0m\u001b[0;34m,\u001b[0m \u001b[0mtitle\u001b[0m\u001b[0;34m:\u001b[0m \u001b[0mstr\u001b[0m\u001b[0;34m)\u001b[0m\u001b[0;34m:\u001b[0m\u001b[0;34m\u001b[0m\u001b[0;34m\u001b[0m\u001b[0m\n\u001b[0;32m---> 31\u001b[0;31m         \u001b[0mYouTube\u001b[0m\u001b[0;34m(\u001b[0m\u001b[0myoutube_url\u001b[0m\u001b[0;34m)\u001b[0m\u001b[0;34m.\u001b[0m\u001b[0mstreams\u001b[0m\u001b[0;34m.\u001b[0m\u001b[0mfirst\u001b[0m\u001b[0;34m(\u001b[0m\u001b[0;34m)\u001b[0m\u001b[0;34m.\u001b[0m\u001b[0mdownload\u001b[0m\u001b[0;34m(\u001b[0m\u001b[0mPATH\u001b[0m\u001b[0;34m)\u001b[0m\u001b[0;34m\u001b[0m\u001b[0;34m\u001b[0m\u001b[0m\n\u001b[0m",
      "\u001b[0;32m/usr/local/lib/python3.6/dist-packages/pytube/__main__.py\u001b[0m in \u001b[0;36m__init__\u001b[0;34m(self, url, defer_prefetch_init, on_progress_callback, on_complete_callback, proxies)\u001b[0m\n\u001b[1;32m    103\u001b[0m         \u001b[0;32mif\u001b[0m \u001b[0;32mnot\u001b[0m \u001b[0mdefer_prefetch_init\u001b[0m\u001b[0;34m:\u001b[0m\u001b[0;34m\u001b[0m\u001b[0;34m\u001b[0m\u001b[0m\n\u001b[1;32m    104\u001b[0m             \u001b[0mself\u001b[0m\u001b[0;34m.\u001b[0m\u001b[0mprefetch\u001b[0m\u001b[0;34m(\u001b[0m\u001b[0;34m)\u001b[0m\u001b[0;34m\u001b[0m\u001b[0;34m\u001b[0m\u001b[0m\n\u001b[0;32m--> 105\u001b[0;31m             \u001b[0mself\u001b[0m\u001b[0;34m.\u001b[0m\u001b[0mdescramble\u001b[0m\u001b[0;34m(\u001b[0m\u001b[0;34m)\u001b[0m\u001b[0;34m\u001b[0m\u001b[0;34m\u001b[0m\u001b[0m\n\u001b[0m\u001b[1;32m    106\u001b[0m \u001b[0;34m\u001b[0m\u001b[0m\n\u001b[1;32m    107\u001b[0m     \u001b[0;32mdef\u001b[0m \u001b[0mcheck_availability\u001b[0m\u001b[0;34m(\u001b[0m\u001b[0mself\u001b[0m\u001b[0;34m)\u001b[0m\u001b[0;34m:\u001b[0m\u001b[0;34m\u001b[0m\u001b[0;34m\u001b[0m\u001b[0m\n",
      "\u001b[0;32m/usr/local/lib/python3.6/dist-packages/pytube/__main__.py\u001b[0m in \u001b[0;36mdescramble\u001b[0;34m(self)\u001b[0m\n\u001b[1;32m    175\u001b[0m             \u001b[0mapply_descrambler\u001b[0m\u001b[0;34m(\u001b[0m\u001b[0mself\u001b[0m\u001b[0;34m.\u001b[0m\u001b[0mplayer_config_args\u001b[0m\u001b[0;34m,\u001b[0m \u001b[0mfmt\u001b[0m\u001b[0;34m)\u001b[0m\u001b[0;34m\u001b[0m\u001b[0;34m\u001b[0m\u001b[0m\n\u001b[1;32m    176\u001b[0m \u001b[0;34m\u001b[0m\u001b[0m\n\u001b[0;32m--> 177\u001b[0;31m             \u001b[0mapply_signature\u001b[0m\u001b[0;34m(\u001b[0m\u001b[0mself\u001b[0m\u001b[0;34m.\u001b[0m\u001b[0mplayer_config_args\u001b[0m\u001b[0;34m,\u001b[0m \u001b[0mfmt\u001b[0m\u001b[0;34m,\u001b[0m \u001b[0mself\u001b[0m\u001b[0;34m.\u001b[0m\u001b[0mjs\u001b[0m\u001b[0;34m)\u001b[0m\u001b[0;34m\u001b[0m\u001b[0;34m\u001b[0m\u001b[0m\n\u001b[0m\u001b[1;32m    178\u001b[0m \u001b[0;34m\u001b[0m\u001b[0m\n\u001b[1;32m    179\u001b[0m             \u001b[0;31m# build instances of :class:`Stream <Stream>`\u001b[0m\u001b[0;34m\u001b[0m\u001b[0;34m\u001b[0m\u001b[0;34m\u001b[0m\u001b[0m\n",
      "\u001b[0;32m/usr/local/lib/python3.6/dist-packages/pytube/extract.py\u001b[0m in \u001b[0;36mapply_signature\u001b[0;34m(config_args, fmt, js)\u001b[0m\n\u001b[1;32m    368\u001b[0m \u001b[0;34m\u001b[0m\u001b[0m\n\u001b[1;32m    369\u001b[0m     \"\"\"\n\u001b[0;32m--> 370\u001b[0;31m     \u001b[0mcipher\u001b[0m \u001b[0;34m=\u001b[0m \u001b[0mCipher\u001b[0m\u001b[0;34m(\u001b[0m\u001b[0mjs\u001b[0m\u001b[0;34m=\u001b[0m\u001b[0mjs\u001b[0m\u001b[0;34m)\u001b[0m\u001b[0;34m\u001b[0m\u001b[0;34m\u001b[0m\u001b[0m\n\u001b[0m\u001b[1;32m    371\u001b[0m     \u001b[0mstream_manifest\u001b[0m \u001b[0;34m=\u001b[0m \u001b[0mconfig_args\u001b[0m\u001b[0;34m[\u001b[0m\u001b[0mfmt\u001b[0m\u001b[0;34m]\u001b[0m\u001b[0;34m\u001b[0m\u001b[0;34m\u001b[0m\u001b[0m\n\u001b[1;32m    372\u001b[0m \u001b[0;34m\u001b[0m\u001b[0m\n",
      "\u001b[0;32m/usr/local/lib/python3.6/dist-packages/pytube/cipher.py\u001b[0m in \u001b[0;36m__init__\u001b[0;34m(self, js)\u001b[0m\n\u001b[1;32m     34\u001b[0m     \u001b[0;32mdef\u001b[0m \u001b[0m__init__\u001b[0m\u001b[0;34m(\u001b[0m\u001b[0mself\u001b[0m\u001b[0;34m,\u001b[0m \u001b[0mjs\u001b[0m\u001b[0;34m:\u001b[0m \u001b[0mstr\u001b[0m\u001b[0;34m)\u001b[0m\u001b[0;34m:\u001b[0m\u001b[0;34m\u001b[0m\u001b[0;34m\u001b[0m\u001b[0m\n\u001b[1;32m     35\u001b[0m         \u001b[0mself\u001b[0m\u001b[0;34m.\u001b[0m\u001b[0mtransform_plan\u001b[0m\u001b[0;34m:\u001b[0m \u001b[0mList\u001b[0m\u001b[0;34m[\u001b[0m\u001b[0mstr\u001b[0m\u001b[0;34m]\u001b[0m \u001b[0;34m=\u001b[0m \u001b[0mget_transform_plan\u001b[0m\u001b[0;34m(\u001b[0m\u001b[0mjs\u001b[0m\u001b[0;34m)\u001b[0m\u001b[0;34m\u001b[0m\u001b[0;34m\u001b[0m\u001b[0m\n\u001b[0;32m---> 36\u001b[0;31m         \u001b[0mvar\u001b[0m\u001b[0;34m,\u001b[0m \u001b[0m_\u001b[0m \u001b[0;34m=\u001b[0m \u001b[0mself\u001b[0m\u001b[0;34m.\u001b[0m\u001b[0mtransform_plan\u001b[0m\u001b[0;34m[\u001b[0m\u001b[0;36m0\u001b[0m\u001b[0;34m]\u001b[0m\u001b[0;34m.\u001b[0m\u001b[0msplit\u001b[0m\u001b[0;34m(\u001b[0m\u001b[0;34m\".\"\u001b[0m\u001b[0;34m)\u001b[0m\u001b[0;34m\u001b[0m\u001b[0;34m\u001b[0m\u001b[0m\n\u001b[0m\u001b[1;32m     37\u001b[0m         \u001b[0mself\u001b[0m\u001b[0;34m.\u001b[0m\u001b[0mtransform_map\u001b[0m \u001b[0;34m=\u001b[0m \u001b[0mget_transform_map\u001b[0m\u001b[0;34m(\u001b[0m\u001b[0mjs\u001b[0m\u001b[0;34m,\u001b[0m \u001b[0mvar\u001b[0m\u001b[0;34m)\u001b[0m\u001b[0;34m\u001b[0m\u001b[0;34m\u001b[0m\u001b[0m\n\u001b[1;32m     38\u001b[0m         \u001b[0mself\u001b[0m\u001b[0;34m.\u001b[0m\u001b[0mjs_func_regex\u001b[0m \u001b[0;34m=\u001b[0m \u001b[0mre\u001b[0m\u001b[0;34m.\u001b[0m\u001b[0mcompile\u001b[0m\u001b[0;34m(\u001b[0m\u001b[0;34mr\"\\w+\\.(\\w+)\\(\\w,(\\d+)\\)\"\u001b[0m\u001b[0;34m)\u001b[0m\u001b[0;34m\u001b[0m\u001b[0;34m\u001b[0m\u001b[0m\n",
      "\u001b[0;31mValueError\u001b[0m: not enough values to unpack (expected 2, got 1)"
     ]
    }
   ],
   "source": [
    "# One at a time\n",
    "\n",
    "#video_id = the 10 characters after  '/watch?v='\n",
    "video_id = 'KzC4UPH9A5A'\n",
    "url = f\"https://www.googleapis.com/youtube/v3/videos?part=snippet&id={video_id}&key={api_key}\"\n",
    "yt_stats = YouTubeStats(url)\n",
    "title = yt_stats.get_video_title()\n",
    "helper = Helper()\n",
    "title = helper.title_to_underscore_title(title)\n",
    "print(title)\n",
    "# description = yt_stats.get_video_description()\n",
    "# print(description)\n",
    "yt_stats.download_video('/watch?v=KzC4UPH9A5A', title)"
   ]
  }
 ],
 "metadata": {
  "colab": {
   "name": "TubeScraper.ipynb",
   "provenance": []
  },
  "kernelspec": {
   "display_name": "Python 3",
   "language": "python",
   "name": "python3"
  },
  "language_info": {
   "codemirror_mode": {
    "name": "ipython",
    "version": 3
   },
   "file_extension": ".py",
   "mimetype": "text/x-python",
   "name": "python",
   "nbconvert_exporter": "python",
   "pygments_lexer": "ipython3",
   "version": "3.8.3"
  }
 },
 "nbformat": 4,
 "nbformat_minor": 1
}
