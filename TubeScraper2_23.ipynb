{
 "cells": [
  {
   "cell_type": "markdown",
   "metadata": {
    "id": "R_ZUQr3G_Bnx"
   },
   "source": [
    "# Imports"
   ]
  },
  {
   "cell_type": "code",
   "execution_count": 1,
   "metadata": {
    "colab": {
     "base_uri": "https://localhost:8080/"
    },
    "id": "qGbP-KeGbajG",
    "outputId": "50d73c27-8ae0-41dc-a6ee-395a0e0e9b4a"
   },
   "outputs": [
    {
     "name": "stdout",
     "output_type": "stream",
     "text": [
      "\u001b[?25l\r",
      "\u001b[K     |███████▉                        | 10kB 22.8MB/s eta 0:00:01\r",
      "\u001b[K     |███████████████▊                | 20kB 25.2MB/s eta 0:00:01\r",
      "\u001b[K     |███████████████████████▌        | 30kB 19.6MB/s eta 0:00:01\r",
      "\u001b[K     |███████████████████████████████▍| 40kB 12.0MB/s eta 0:00:01\r",
      "\u001b[K     |████████████████████████████████| 51kB 3.8MB/s \n",
      "\u001b[?25h"
     ]
    }
   ],
   "source": [
    "!pip install pytube --quiet"
   ]
  },
  {
   "cell_type": "code",
   "execution_count": 2,
   "metadata": {
    "id": "RlYmJTWSXgxR"
   },
   "outputs": [],
   "source": [
    "from bs4 import BeautifulSoup\n",
    "import requests\n",
    "import json\n",
    "import re\n",
    "import urllib.request\n",
    "from pytube import YouTube"
   ]
  },
  {
   "cell_type": "markdown",
   "metadata": {
    "id": "0WW9qWZ9yF0M"
   },
   "source": [
    "# Helper Functions"
   ]
  },
  {
   "cell_type": "code",
   "execution_count": 3,
   "metadata": {
    "id": "PmiUQSnbag2g"
   },
   "outputs": [],
   "source": [
    "class Helper:\n",
    "    def __init__(self):\n",
    "        pass\n",
    "\n",
    "    def title_to_underscore_title(self, title: str):\n",
    "        title = re.sub(\"[\\W_]+\", \"_\", title)\n",
    "        return title.lower()\n",
    "\n",
    "    def id_from_url(self, url: str):\n",
    "        return url.rsplit('=', 1)[1]\n",
    "\n",
    "\n",
    "class YouTubeStats:\n",
    "    def __init__(self, url: str):\n",
    "        #self.json_url = urllib.request.urlopen(url)\n",
    "        self.json_url = requests.get(url)\n",
    "        self.data = json.loads(self.json_url.text)\n",
    "\n",
    "    def print_data(self):\n",
    "        print(self.data)\n",
    "\n",
    "    def get_video_title(self):\n",
    "        # pass\n",
    "        return self.data[\"items\"][0][\"snippet\"][\"title\"]\n",
    "\n",
    "    def get_video_description(self):\n",
    "        # pass\n",
    "        return self.data[\"items\"][0][\"snippet\"][\"description\"]\n",
    "\n",
    "    def download_video(self, youtube_url: str, title: str):\n",
    "        YouTube(youtube_url).streams.first().download(PATH)"
   ]
  },
  {
   "cell_type": "markdown",
   "metadata": {
    "id": "Y39_NEB0-5lX"
   },
   "source": [
    "# Playlist and API info"
   ]
  },
  {
   "cell_type": "code",
   "execution_count": 4,
   "metadata": {
    "id": "JocK0Htr7woA"
   },
   "outputs": [],
   "source": [
    "#Path to DL the videos\n",
    "PATH = 'insert path to DL files to'\n",
    "\n",
    "playlist = 'insert playlist'\n",
    "api_key = 'insert youtube API key'"
   ]
  },
  {
   "cell_type": "markdown",
   "metadata": {
    "id": "OzcR4hoX-HZy"
   },
   "source": [
    "# Link scraping"
   ]
  },
  {
   "cell_type": "code",
   "execution_count": 3,
   "metadata": {
    "colab": {
     "base_uri": "https://localhost:8080/"
    },
    "id": "AbDF0G3z5zs_",
    "outputId": "a5097518-a908-47cd-85d6-8370569169c5"
   },
   "outputs": [],
   "source": [
    "# Scraping links\n",
    "import googleapiclient.discovery\n",
    "from urllib.parse import parse_qs, urlparse\n",
    "\n",
    "#extract playlist id from url\n",
    "query = parse_qs(urlparse(playlist).query, keep_blank_values=True)\n",
    "playlist_id = query[\"list\"][0]\n",
    "\n",
    "# print(f'get all playlist items links from {playlist_id}')\n",
    "youtube = googleapiclient.discovery.build(\"youtube\", \"v3\", developerKey = api_key)\n",
    "\n",
    "request = youtube.playlistItems().list(\n",
    "    part = \"snippet\",\n",
    "    playlistId = playlist_id,\n",
    "    maxResults = 50\n",
    ")\n",
    "response = request.execute()\n",
    "\n",
    "playlist_items = []\n",
    "while request is not None:\n",
    "    response = request.execute()\n",
    "    playlist_items += response[\"items\"]\n",
    "    request = youtube.playlistItems().list_next(request, response)\n",
    "\n",
    "# print(f\"total: {len(playlist_items)}\")\n",
    "links = [f'/watch?v={t[\"snippet\"][\"resourceId\"][\"videoId\"]}' for t in playlist_items]\n",
    "\n",
    "with open(\"FILE PATH TO SAVE CSV OF LINKS\", \"w\") as outfile:\n",
    "    outfile.write(\"\\n\".join(str(item) for item in links))\n",
    "\n",
    "len(links)"
   ]
  },
  {
   "cell_type": "markdown",
   "metadata": {
    "id": "UgAWk2rgYh9m"
   },
   "source": [
    "#Manual adds for various playlist csv's"
   ]
  },
  {
   "cell_type": "markdown",
   "metadata": {
    "id": "YBaNicw3YXSm"
   },
   "source": [
    "Add to Feb_21 csv_list ***/watch?v=KzC4UPH9A5A***"
   ]
  },
  {
   "cell_type": "markdown",
   "metadata": {
    "id": "dUs7OhKP5Dt2"
   },
   "source": [
    "# Scrape the videos"
   ]
  },
  {
   "cell_type": "code",
   "execution_count": 1,
   "metadata": {
    "colab": {
     "base_uri": "https://localhost:8080/"
    },
    "id": "LSFCIsCnx97e",
    "outputId": "8c5368b4-769d-4af6-9bdd-25056656177c"
   },
   "outputs": [],
   "source": [
    "# This linked file contains the links... could make a seperate list within this script instead. \n",
    "link_file = \"FILE PATH TO OPEN CSV OF LINKS\"\n",
    "with open(link_file, \"r\") as f:\n",
    "    content = f.readlines()\n",
    "\n",
    "content = list(map(lambda s: s.strip(), content))\n",
    "content = list(map(lambda s: s.strip(','), content))\n",
    "\n",
    "helper = Helper()\n",
    "\n",
    "for youtube_url in content[:]:\n",
    "    video_id = helper.id_from_url(youtube_url)\n",
    "    url = f\"https://www.googleapis.com/youtube/v3/videos?part=snippet&id={video_id}&key={api_key}\"\n",
    "    # print(url)\n",
    "    yt_stats = YouTubeStats(url)\n",
    "    title = yt_stats.get_video_title()\n",
    "    title = helper.title_to_underscore_title(title)\n",
    "    print(title)\n",
    "    # description = yt_stats.get_video_description()\n",
    "    # print(description)\n",
    "    yt_stats.download_video(youtube_url, title)\n"
   ]
  },
  {
   "cell_type": "markdown",
   "metadata": {
    "id": "yvpxMkuu-u3x"
   },
   "source": [
    "# Scrape one video"
   ]
  },
  {
   "cell_type": "code",
   "execution_count": 2,
   "metadata": {
    "colab": {
     "base_uri": "https://localhost:8080/",
     "height": 357
    },
    "id": "QGxB0iFGBADs",
    "outputId": "c33377c5-1add-4843-8154-94d8979cfc6d"
   },
   "outputs": [],
   "source": [
    "# One at a time\n",
    "\n",
    "#video_id = the 10 characters after  '/watch?v='\n",
    "video_id = 'KzC4UPH9A5A'\n",
    "url = f\"https://www.googleapis.com/youtube/v3/videos?part=snippet&id={video_id}&key={api_key}\"\n",
    "yt_stats = YouTubeStats(url)\n",
    "title = yt_stats.get_video_title()\n",
    "helper = Helper()\n",
    "title = helper.title_to_underscore_title(title)\n",
    "print(title)\n",
    "# description = yt_stats.get_video_description()\n",
    "# print(description)\n",
    "yt_stats.download_video('/watch?v=KzC4UPH9A5A', title)"
   ]
  }
 ],
 "metadata": {
  "colab": {
   "name": "TubeScraper.ipynb",
   "provenance": []
  },
  "kernelspec": {
   "display_name": "Python 3",
   "language": "python",
   "name": "python3"
  },
  "language_info": {
   "codemirror_mode": {
    "name": "ipython",
    "version": 3
   },
   "file_extension": ".py",
   "mimetype": "text/x-python",
   "name": "python",
   "nbconvert_exporter": "python",
   "pygments_lexer": "ipython3",
   "version": "3.8.3"
  }
 },
 "nbformat": 4,
 "nbformat_minor": 1
}
