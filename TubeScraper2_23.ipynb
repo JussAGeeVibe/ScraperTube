{
  "nbformat": 4,
  "nbformat_minor": 0,
  "metadata": {
    "colab": {
      "name": "TubeScraper.ipynb",
      "provenance": []
    },
    "kernelspec": {
      "name": "python3",
      "display_name": "Python 3"
    }
  },
  "cells": [
    {
      "cell_type": "markdown",
      "metadata": {
        "id": "R_ZUQr3G_Bnx"
      },
      "source": [
        "# Imports"
      ]
    },
    {
      "cell_type": "code",
      "metadata": {
        "colab": {
          "base_uri": "https://localhost:8080/"
        },
        "id": "qGbP-KeGbajG",
        "outputId": "50d73c27-8ae0-41dc-a6ee-395a0e0e9b4a"
      },
      "source": [
        "!pip install pytube --quiet"
      ],
      "execution_count": 1,
      "outputs": [
        {
          "output_type": "stream",
          "text": [
            "\u001b[?25l\r\u001b[K     |███████▉                        | 10kB 22.8MB/s eta 0:00:01\r\u001b[K     |███████████████▊                | 20kB 25.2MB/s eta 0:00:01\r\u001b[K     |███████████████████████▌        | 30kB 19.6MB/s eta 0:00:01\r\u001b[K     |███████████████████████████████▍| 40kB 12.0MB/s eta 0:00:01\r\u001b[K     |████████████████████████████████| 51kB 3.8MB/s \n",
            "\u001b[?25h"
          ],
          "name": "stdout"
        }
      ]
    },
    {
      "cell_type": "code",
      "metadata": {
        "id": "RlYmJTWSXgxR"
      },
      "source": [
        "from bs4 import BeautifulSoup\r\n",
        "import requests\r\n",
        "import json\r\n",
        "import re\r\n",
        "import urllib.request\r\n",
        "from pytube import YouTube"
      ],
      "execution_count": 2,
      "outputs": []
    },
    {
      "cell_type": "markdown",
      "metadata": {
        "id": "0WW9qWZ9yF0M"
      },
      "source": [
        "# Helper Functions"
      ]
    },
    {
      "cell_type": "code",
      "metadata": {
        "id": "PmiUQSnbag2g"
      },
      "source": [
        "class Helper:\r\n",
        "    def __init__(self):\r\n",
        "        pass\r\n",
        "\r\n",
        "    def title_to_underscore_title(self, title: str):\r\n",
        "        title = re.sub(\"[\\W_]+\", \"_\", title)\r\n",
        "        return title.lower()\r\n",
        "\r\n",
        "    def id_from_url(self, url: str):\r\n",
        "        return url.rsplit('=', 1)[1]\r\n",
        "\r\n",
        "\r\n",
        "class YouTubeStats:\r\n",
        "    def __init__(self, url: str):\r\n",
        "        #self.json_url = urllib.request.urlopen(url)\r\n",
        "        self.json_url = requests.get(url)\r\n",
        "        self.data = json.loads(self.json_url.text)\r\n",
        "\r\n",
        "    def print_data(self):\r\n",
        "        print(self.data)\r\n",
        "\r\n",
        "    def get_video_title(self):\r\n",
        "        # pass\r\n",
        "        return self.data[\"items\"][0][\"snippet\"][\"title\"]\r\n",
        "\r\n",
        "    def get_video_description(self):\r\n",
        "        # pass\r\n",
        "        return self.data[\"items\"][0][\"snippet\"][\"description\"]\r\n",
        "\r\n",
        "    def download_video(self, youtube_url: str, title: str):\r\n",
        "        YouTube(youtube_url).streams.first().download(PATH)"
      ],
      "execution_count": 3,
      "outputs": []
    },
    {
      "cell_type": "markdown",
      "metadata": {
        "id": "Y39_NEB0-5lX"
      },
      "source": [
        "# Playlist and API info"
      ]
    },
    {
      "cell_type": "code",
      "metadata": {
        "id": "JocK0Htr7woA"
      },
      "source": [
        "#Path to DL the videos\r\n",
        "PATH = '/content/drive/MyDrive/Music/Scraper/Jan_21'\r\n",
        "\r\n",
        "playlist = 'https://www.youtube.com/playlist?list=PLzdXffP5JtUkc_mX0DvOkFWxLxAWpuOWG'\r\n",
        "api_key = \"\""
      ],
      "execution_count": 4,
      "outputs": []
    },
    {
      "cell_type": "markdown",
      "metadata": {
        "id": "OzcR4hoX-HZy"
      },
      "source": [
        "# Link scraping"
      ]
    },
    {
      "cell_type": "code",
      "metadata": {
        "colab": {
          "base_uri": "https://localhost:8080/"
        },
        "id": "AbDF0G3z5zs_",
        "outputId": "a5097518-a908-47cd-85d6-8370569169c5"
      },
      "source": [
        "# Scraping links\r\n",
        "import googleapiclient.discovery\r\n",
        "from urllib.parse import parse_qs, urlparse\r\n",
        "\r\n",
        "#extract playlist id from url\r\n",
        "query = parse_qs(urlparse(playlist).query, keep_blank_values=True)\r\n",
        "playlist_id = query[\"list\"][0]\r\n",
        "\r\n",
        "# print(f'get all playlist items links from {playlist_id}')\r\n",
        "youtube = googleapiclient.discovery.build(\"youtube\", \"v3\", developerKey = api_key)\r\n",
        "\r\n",
        "request = youtube.playlistItems().list(\r\n",
        "    part = \"snippet\",\r\n",
        "    playlistId = playlist_id,\r\n",
        "    maxResults = 50\r\n",
        ")\r\n",
        "response = request.execute()\r\n",
        "\r\n",
        "playlist_items = []\r\n",
        "while request is not None:\r\n",
        "    response = request.execute()\r\n",
        "    playlist_items += response[\"items\"]\r\n",
        "    request = youtube.playlistItems().list_next(request, response)\r\n",
        "\r\n",
        "# print(f\"total: {len(playlist_items)}\")\r\n",
        "links = [f'/watch?v={t[\"snippet\"][\"resourceId\"][\"videoId\"]}' for t in playlist_items]\r\n",
        "\r\n",
        "with open(\"/content/drive/MyDrive/Music/Scraper/video_links.csv\", \"w\") as outfile:\r\n",
        "    outfile.write(\"\\n\".join(str(item) for item in links))\r\n",
        "\r\n",
        "len(links)"
      ],
      "execution_count": 5,
      "outputs": [
        {
          "output_type": "execute_result",
          "data": {
            "text/plain": [
              "22"
            ]
          },
          "metadata": {
            "tags": []
          },
          "execution_count": 5
        }
      ]
    },
    {
      "cell_type": "code",
      "metadata": {
        "colab": {
          "base_uri": "https://localhost:8080/"
        },
        "id": "j_yiWYSWHr8k",
        "outputId": "04b6e76d-cca7-4078-ec22-0e87615ab420"
      },
      "source": [
        "any(links)"
      ],
      "execution_count": 10,
      "outputs": [
        {
          "output_type": "execute_result",
          "data": {
            "text/plain": [
              "True"
            ]
          },
          "metadata": {
            "tags": []
          },
          "execution_count": 10
        }
      ]
    },
    {
      "cell_type": "markdown",
      "metadata": {
        "id": "UgAWk2rgYh9m"
      },
      "source": [
        "#Manual adds for various playlist csv's"
      ]
    },
    {
      "cell_type": "markdown",
      "metadata": {
        "id": "YBaNicw3YXSm"
      },
      "source": [
        "Add to Feb_21 csv_list ***/watch?v=KzC4UPH9A5A***"
      ]
    },
    {
      "cell_type": "markdown",
      "metadata": {
        "id": "dUs7OhKP5Dt2"
      },
      "source": [
        "# Scrape the videos"
      ]
    },
    {
      "cell_type": "code",
      "metadata": {
        "colab": {
          "base_uri": "https://localhost:8080/"
        },
        "id": "LSFCIsCnx97e",
        "outputId": "8c5368b4-769d-4af6-9bdd-25056656177c"
      },
      "source": [
        "# This linked file contains the links... could make a seperate list within this script instead. \r\n",
        "link_file = \"/content/drive/MyDrive/Music/Scraper/video_links.csv\"\r\n",
        "with open(link_file, \"r\") as f:\r\n",
        "    content = f.readlines()\r\n",
        "\r\n",
        "content = list(map(lambda s: s.strip(), content))\r\n",
        "content = list(map(lambda s: s.strip(','), content))\r\n",
        "\r\n",
        "helper = Helper()\r\n",
        "\r\n",
        "for youtube_url in content[:]:\r\n",
        "    video_id = helper.id_from_url(youtube_url)\r\n",
        "    url = f\"https://www.googleapis.com/youtube/v3/videos?part=snippet&id={video_id}&key={api_key}\"\r\n",
        "    # print(url)\r\n",
        "    yt_stats = YouTubeStats(url)\r\n",
        "    title = yt_stats.get_video_title()\r\n",
        "    title = helper.title_to_underscore_title(title)\r\n",
        "    print(title)\r\n",
        "    # description = yt_stats.get_video_description()\r\n",
        "    # print(description)\r\n",
        "    yt_stats.download_video(youtube_url, title)\r\n"
      ],
      "execution_count": 7,
      "outputs": [
        {
          "output_type": "stream",
          "text": [
            "black_throne_盟主_meishu_official_audio_\n",
            "black_throne_津島_tsushima_official_audio_\n",
            "black_throne_芸者_geisha_official_audio_\n",
            "zoro\n",
            "_free_naruto_type_beat_amaterasu_\n",
            "black_throne_悪魔_akuma_official_audio_\n",
            "_free_naruto_type_beat_konoha_senpuu_\n",
            "_free_japanese_type_beat_senko_\n",
            "utkersh_kyoto\n",
            "black_throne_かたな_katana_official_audio_\n",
            "iruka_shinobi_japanese_trap_rap_beat_\n",
            "gravy_beats_iruka_hannya_般若_japanese_trap_beat_\n",
            "kusanagi_japanese_trap_music_by_shawty_j\n",
            "asian_trap_beat_yugure_by_skyfo\n",
            "aqueduct\n",
            "cloud_dance\n",
            "ocean_view\n",
            "bringmesun\n",
            "oceania\n",
            "anywhere_but_here\n",
            "p_i_c_k_m_e_u_p\n",
            "kl3w_someday\n"
          ],
          "name": "stdout"
        }
      ]
    },
    {
      "cell_type": "markdown",
      "metadata": {
        "id": "yvpxMkuu-u3x"
      },
      "source": [
        "# Scrape one video"
      ]
    },
    {
      "cell_type": "code",
      "metadata": {
        "colab": {
          "base_uri": "https://localhost:8080/",
          "height": 357
        },
        "id": "QGxB0iFGBADs",
        "outputId": "c33377c5-1add-4843-8154-94d8979cfc6d"
      },
      "source": [
        "# One at a time\r\n",
        "\r\n",
        "#video_id = the 10 characters after  '/watch?v='\r\n",
        "video_id = 'KzC4UPH9A5A'\r\n",
        "url = f\"https://www.googleapis.com/youtube/v3/videos?part=snippet&id={video_id}&key={api_key}\"\r\n",
        "yt_stats = YouTubeStats(url)\r\n",
        "title = yt_stats.get_video_title()\r\n",
        "helper = Helper()\r\n",
        "title = helper.title_to_underscore_title(title)\r\n",
        "print(title)\r\n",
        "# description = yt_stats.get_video_description()\r\n",
        "# print(description)\r\n",
        "yt_stats.download_video('/watch?v=KzC4UPH9A5A', title)"
      ],
      "execution_count": 14,
      "outputs": [
        {
          "output_type": "stream",
          "text": [
            "voodoo_bosozoku_yeah\n"
          ],
          "name": "stdout"
        },
        {
          "output_type": "error",
          "ename": "ValueError",
          "evalue": "ignored",
          "traceback": [
            "\u001b[0;31m---------------------------------------------------------------------------\u001b[0m",
            "\u001b[0;31mValueError\u001b[0m                                Traceback (most recent call last)",
            "\u001b[0;32m<ipython-input-14-1a5d57a92d7f>\u001b[0m in \u001b[0;36m<module>\u001b[0;34m()\u001b[0m\n\u001b[1;32m     11\u001b[0m \u001b[0;31m# description = yt_stats.get_video_description()\u001b[0m\u001b[0;34m\u001b[0m\u001b[0;34m\u001b[0m\u001b[0;34m\u001b[0m\u001b[0m\n\u001b[1;32m     12\u001b[0m \u001b[0;31m# print(description)\u001b[0m\u001b[0;34m\u001b[0m\u001b[0;34m\u001b[0m\u001b[0;34m\u001b[0m\u001b[0m\n\u001b[0;32m---> 13\u001b[0;31m \u001b[0myt_stats\u001b[0m\u001b[0;34m.\u001b[0m\u001b[0mdownload_video\u001b[0m\u001b[0;34m(\u001b[0m\u001b[0;34m'/watch?v=KzC4UPH9A5A'\u001b[0m\u001b[0;34m,\u001b[0m \u001b[0mtitle\u001b[0m\u001b[0;34m)\u001b[0m\u001b[0;34m\u001b[0m\u001b[0;34m\u001b[0m\u001b[0m\n\u001b[0m",
            "\u001b[0;32m<ipython-input-3-322297f2d817>\u001b[0m in \u001b[0;36mdownload_video\u001b[0;34m(self, youtube_url, title)\u001b[0m\n\u001b[1;32m     29\u001b[0m \u001b[0;34m\u001b[0m\u001b[0m\n\u001b[1;32m     30\u001b[0m     \u001b[0;32mdef\u001b[0m \u001b[0mdownload_video\u001b[0m\u001b[0;34m(\u001b[0m\u001b[0mself\u001b[0m\u001b[0;34m,\u001b[0m \u001b[0myoutube_url\u001b[0m\u001b[0;34m:\u001b[0m \u001b[0mstr\u001b[0m\u001b[0;34m,\u001b[0m \u001b[0mtitle\u001b[0m\u001b[0;34m:\u001b[0m \u001b[0mstr\u001b[0m\u001b[0;34m)\u001b[0m\u001b[0;34m:\u001b[0m\u001b[0;34m\u001b[0m\u001b[0;34m\u001b[0m\u001b[0m\n\u001b[0;32m---> 31\u001b[0;31m         \u001b[0mYouTube\u001b[0m\u001b[0;34m(\u001b[0m\u001b[0myoutube_url\u001b[0m\u001b[0;34m)\u001b[0m\u001b[0;34m.\u001b[0m\u001b[0mstreams\u001b[0m\u001b[0;34m.\u001b[0m\u001b[0mfirst\u001b[0m\u001b[0;34m(\u001b[0m\u001b[0;34m)\u001b[0m\u001b[0;34m.\u001b[0m\u001b[0mdownload\u001b[0m\u001b[0;34m(\u001b[0m\u001b[0mPATH\u001b[0m\u001b[0;34m)\u001b[0m\u001b[0;34m\u001b[0m\u001b[0;34m\u001b[0m\u001b[0m\n\u001b[0m",
            "\u001b[0;32m/usr/local/lib/python3.6/dist-packages/pytube/__main__.py\u001b[0m in \u001b[0;36m__init__\u001b[0;34m(self, url, defer_prefetch_init, on_progress_callback, on_complete_callback, proxies)\u001b[0m\n\u001b[1;32m    103\u001b[0m         \u001b[0;32mif\u001b[0m \u001b[0;32mnot\u001b[0m \u001b[0mdefer_prefetch_init\u001b[0m\u001b[0;34m:\u001b[0m\u001b[0;34m\u001b[0m\u001b[0;34m\u001b[0m\u001b[0m\n\u001b[1;32m    104\u001b[0m             \u001b[0mself\u001b[0m\u001b[0;34m.\u001b[0m\u001b[0mprefetch\u001b[0m\u001b[0;34m(\u001b[0m\u001b[0;34m)\u001b[0m\u001b[0;34m\u001b[0m\u001b[0;34m\u001b[0m\u001b[0m\n\u001b[0;32m--> 105\u001b[0;31m             \u001b[0mself\u001b[0m\u001b[0;34m.\u001b[0m\u001b[0mdescramble\u001b[0m\u001b[0;34m(\u001b[0m\u001b[0;34m)\u001b[0m\u001b[0;34m\u001b[0m\u001b[0;34m\u001b[0m\u001b[0m\n\u001b[0m\u001b[1;32m    106\u001b[0m \u001b[0;34m\u001b[0m\u001b[0m\n\u001b[1;32m    107\u001b[0m     \u001b[0;32mdef\u001b[0m \u001b[0mcheck_availability\u001b[0m\u001b[0;34m(\u001b[0m\u001b[0mself\u001b[0m\u001b[0;34m)\u001b[0m\u001b[0;34m:\u001b[0m\u001b[0;34m\u001b[0m\u001b[0;34m\u001b[0m\u001b[0m\n",
            "\u001b[0;32m/usr/local/lib/python3.6/dist-packages/pytube/__main__.py\u001b[0m in \u001b[0;36mdescramble\u001b[0;34m(self)\u001b[0m\n\u001b[1;32m    175\u001b[0m             \u001b[0mapply_descrambler\u001b[0m\u001b[0;34m(\u001b[0m\u001b[0mself\u001b[0m\u001b[0;34m.\u001b[0m\u001b[0mplayer_config_args\u001b[0m\u001b[0;34m,\u001b[0m \u001b[0mfmt\u001b[0m\u001b[0;34m)\u001b[0m\u001b[0;34m\u001b[0m\u001b[0;34m\u001b[0m\u001b[0m\n\u001b[1;32m    176\u001b[0m \u001b[0;34m\u001b[0m\u001b[0m\n\u001b[0;32m--> 177\u001b[0;31m             \u001b[0mapply_signature\u001b[0m\u001b[0;34m(\u001b[0m\u001b[0mself\u001b[0m\u001b[0;34m.\u001b[0m\u001b[0mplayer_config_args\u001b[0m\u001b[0;34m,\u001b[0m \u001b[0mfmt\u001b[0m\u001b[0;34m,\u001b[0m \u001b[0mself\u001b[0m\u001b[0;34m.\u001b[0m\u001b[0mjs\u001b[0m\u001b[0;34m)\u001b[0m\u001b[0;34m\u001b[0m\u001b[0;34m\u001b[0m\u001b[0m\n\u001b[0m\u001b[1;32m    178\u001b[0m \u001b[0;34m\u001b[0m\u001b[0m\n\u001b[1;32m    179\u001b[0m             \u001b[0;31m# build instances of :class:`Stream <Stream>`\u001b[0m\u001b[0;34m\u001b[0m\u001b[0;34m\u001b[0m\u001b[0;34m\u001b[0m\u001b[0m\n",
            "\u001b[0;32m/usr/local/lib/python3.6/dist-packages/pytube/extract.py\u001b[0m in \u001b[0;36mapply_signature\u001b[0;34m(config_args, fmt, js)\u001b[0m\n\u001b[1;32m    368\u001b[0m \u001b[0;34m\u001b[0m\u001b[0m\n\u001b[1;32m    369\u001b[0m     \"\"\"\n\u001b[0;32m--> 370\u001b[0;31m     \u001b[0mcipher\u001b[0m \u001b[0;34m=\u001b[0m \u001b[0mCipher\u001b[0m\u001b[0;34m(\u001b[0m\u001b[0mjs\u001b[0m\u001b[0;34m=\u001b[0m\u001b[0mjs\u001b[0m\u001b[0;34m)\u001b[0m\u001b[0;34m\u001b[0m\u001b[0;34m\u001b[0m\u001b[0m\n\u001b[0m\u001b[1;32m    371\u001b[0m     \u001b[0mstream_manifest\u001b[0m \u001b[0;34m=\u001b[0m \u001b[0mconfig_args\u001b[0m\u001b[0;34m[\u001b[0m\u001b[0mfmt\u001b[0m\u001b[0;34m]\u001b[0m\u001b[0;34m\u001b[0m\u001b[0;34m\u001b[0m\u001b[0m\n\u001b[1;32m    372\u001b[0m \u001b[0;34m\u001b[0m\u001b[0m\n",
            "\u001b[0;32m/usr/local/lib/python3.6/dist-packages/pytube/cipher.py\u001b[0m in \u001b[0;36m__init__\u001b[0;34m(self, js)\u001b[0m\n\u001b[1;32m     34\u001b[0m     \u001b[0;32mdef\u001b[0m \u001b[0m__init__\u001b[0m\u001b[0;34m(\u001b[0m\u001b[0mself\u001b[0m\u001b[0;34m,\u001b[0m \u001b[0mjs\u001b[0m\u001b[0;34m:\u001b[0m \u001b[0mstr\u001b[0m\u001b[0;34m)\u001b[0m\u001b[0;34m:\u001b[0m\u001b[0;34m\u001b[0m\u001b[0;34m\u001b[0m\u001b[0m\n\u001b[1;32m     35\u001b[0m         \u001b[0mself\u001b[0m\u001b[0;34m.\u001b[0m\u001b[0mtransform_plan\u001b[0m\u001b[0;34m:\u001b[0m \u001b[0mList\u001b[0m\u001b[0;34m[\u001b[0m\u001b[0mstr\u001b[0m\u001b[0;34m]\u001b[0m \u001b[0;34m=\u001b[0m \u001b[0mget_transform_plan\u001b[0m\u001b[0;34m(\u001b[0m\u001b[0mjs\u001b[0m\u001b[0;34m)\u001b[0m\u001b[0;34m\u001b[0m\u001b[0;34m\u001b[0m\u001b[0m\n\u001b[0;32m---> 36\u001b[0;31m         \u001b[0mvar\u001b[0m\u001b[0;34m,\u001b[0m \u001b[0m_\u001b[0m \u001b[0;34m=\u001b[0m \u001b[0mself\u001b[0m\u001b[0;34m.\u001b[0m\u001b[0mtransform_plan\u001b[0m\u001b[0;34m[\u001b[0m\u001b[0;36m0\u001b[0m\u001b[0;34m]\u001b[0m\u001b[0;34m.\u001b[0m\u001b[0msplit\u001b[0m\u001b[0;34m(\u001b[0m\u001b[0;34m\".\"\u001b[0m\u001b[0;34m)\u001b[0m\u001b[0;34m\u001b[0m\u001b[0;34m\u001b[0m\u001b[0m\n\u001b[0m\u001b[1;32m     37\u001b[0m         \u001b[0mself\u001b[0m\u001b[0;34m.\u001b[0m\u001b[0mtransform_map\u001b[0m \u001b[0;34m=\u001b[0m \u001b[0mget_transform_map\u001b[0m\u001b[0;34m(\u001b[0m\u001b[0mjs\u001b[0m\u001b[0;34m,\u001b[0m \u001b[0mvar\u001b[0m\u001b[0;34m)\u001b[0m\u001b[0;34m\u001b[0m\u001b[0;34m\u001b[0m\u001b[0m\n\u001b[1;32m     38\u001b[0m         \u001b[0mself\u001b[0m\u001b[0;34m.\u001b[0m\u001b[0mjs_func_regex\u001b[0m \u001b[0;34m=\u001b[0m \u001b[0mre\u001b[0m\u001b[0;34m.\u001b[0m\u001b[0mcompile\u001b[0m\u001b[0;34m(\u001b[0m\u001b[0;34mr\"\\w+\\.(\\w+)\\(\\w,(\\d+)\\)\"\u001b[0m\u001b[0;34m)\u001b[0m\u001b[0;34m\u001b[0m\u001b[0;34m\u001b[0m\u001b[0m\n",
            "\u001b[0;31mValueError\u001b[0m: not enough values to unpack (expected 2, got 1)"
          ]
        }
      ]
    }
  ]
}